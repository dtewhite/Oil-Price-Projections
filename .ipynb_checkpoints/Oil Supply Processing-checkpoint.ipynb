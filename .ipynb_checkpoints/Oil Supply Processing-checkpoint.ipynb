{
 "cells": [
  {
   "cell_type": "code",
   "execution_count": 1,
   "metadata": {},
   "outputs": [],
   "source": [
    "import pandas as pd\n",
    "import json\n",
    "import requests\n",
    "import pprint\n",
    "from functools import reduce\n",
    "from keys import fred_key, eia_key"
   ]
  },
  {
   "cell_type": "code",
   "execution_count": 2,
   "metadata": {},
   "outputs": [
    {
     "name": "stdout",
     "output_type": "stream",
     "text": [
      "200\n",
      "200\n",
      "200\n",
      "200\n"
     ]
    }
   ],
   "source": [
    "production = requests.get(\"https://api.eia.gov/series/?api_key=\"+ eia_key +\"&series_id=PET.WCRFPUS2.W\")\n",
    "imports = requests.get(\"http://api.eia.gov/series/?api_key=\"+ eia_key +\"&series_id=PET.WCRIMUS2.W\")\n",
    "supply = requests.get(\"http://api.eia.gov/series/?api_key=\"+ eia_key +\"&series_id=PET.WRPUPUS2.W\")\n",
    "\n",
    "# The WTI returns price for the week ending Friday. This is the same release dat as the eia data\n",
    "wti = requests.get(\"https://api.stlouisfed.org/fred/series/observations?series_id=WCOILWTICO&frequency=wef&api_key=\"+ fred_key +\"&file_type=json\")\n",
    "print(production.status_code)\n",
    "print(imports.status_code)\n",
    "print(supply.status_code)\n",
    "print(wti.status_code)"
   ]
  },
  {
   "cell_type": "code",
   "execution_count": 3,
   "metadata": {},
   "outputs": [],
   "source": [
    "production_json = production.json()\n",
    "imports_json = imports.json()\n",
    "supply_json = supply.json()\n",
    "wti_json = wti.json()"
   ]
  },
  {
   "cell_type": "code",
   "execution_count": 4,
   "metadata": {},
   "outputs": [],
   "source": [
    "production_series = production_json['series'][0]\n",
    "imports_series = imports_json['series'][0]\n",
    "supply_series = supply_json['series'][0]"
   ]
  },
  {
   "cell_type": "code",
   "execution_count": 5,
   "metadata": {},
   "outputs": [],
   "source": [
    "production_df = pd.DataFrame(production_series['data'])\n",
    "imports_df = pd.DataFrame(imports_series['data'])\n",
    "supply_df = pd.DataFrame(supply_series['data'])"
   ]
  },
  {
   "cell_type": "code",
   "execution_count": 6,
   "metadata": {},
   "outputs": [],
   "source": [
    "wti_observations = wti_json['observations']\n",
    "Date = []\n",
    "Value = []\n",
    "length = len(wti_observations)\n",
    "for observation in wti_observations:\n",
    "    Date.append(observation['date'])\n",
    "    Value.append(observation['value'])\n",
    "wti_df = pd.DataFrame(list(zip(Date,Value)))"
   ]
  },
  {
   "cell_type": "code",
   "execution_count": 7,
   "metadata": {},
   "outputs": [],
   "source": [
    "production_df.iloc[:,0] = pd.to_datetime(production_df.iloc[:,0],format='%Y%m%d', errors='raise')\n",
    "imports_df.iloc[:,0] = pd.to_datetime(production_df.iloc[:,0],format='%Y%m%d', errors='raise')\n",
    "supply_df.iloc[:,0] = pd.to_datetime(production_df.iloc[:,0],format='%Y%m%d', errors='raise')\n",
    "wti_df.iloc[:,0] = pd.to_datetime(wti_df.iloc[:,0],format='%Y-%m-%d', errors='raise')"
   ]
  },
  {
   "cell_type": "code",
   "execution_count": 8,
   "metadata": {},
   "outputs": [],
   "source": [
    "production_df = production_df.rename(columns = {0:'Date', 1:'Production (thousand barrels per day)'}).sort_values(by='Date').reset_index(drop=True)\n",
    "imports_df = imports_df.rename(columns = {0:'Date', 1:'Imports (thousand barrels per day)'}).sort_values(by='Date').reset_index(drop=True)\n",
    "supply_df = supply_df.rename(columns = {0:'Date', 1:'Supply (thousand barrels per day)'}).sort_values(by='Date').reset_index(drop=True)\n",
    "wti_df = wti_df.rename(columns = {0:'Date', 1:'Price of Barrel (usd)'}).sort_values(by='Date')"
   ]
  },
  {
   "cell_type": "code",
   "execution_count": 9,
   "metadata": {},
   "outputs": [],
   "source": [
    "data_frames = [supply_df,imports_df,production_df,wti_df]\n",
    "df_merged = reduce(lambda  left,right: pd.merge(left,right,on=['Date'],\n",
    "                                            how='left'), data_frames)"
   ]
  },
  {
   "cell_type": "code",
   "execution_count": 10,
   "metadata": {},
   "outputs": [
    {
     "data": {
      "text/html": [
       "<div>\n",
       "<style scoped>\n",
       "    .dataframe tbody tr th:only-of-type {\n",
       "        vertical-align: middle;\n",
       "    }\n",
       "\n",
       "    .dataframe tbody tr th {\n",
       "        vertical-align: top;\n",
       "    }\n",
       "\n",
       "    .dataframe thead th {\n",
       "        text-align: right;\n",
       "    }\n",
       "</style>\n",
       "<table border=\"1\" class=\"dataframe\">\n",
       "  <thead>\n",
       "    <tr style=\"text-align: right;\">\n",
       "      <th></th>\n",
       "      <th>Date</th>\n",
       "      <th>Supply (thousand barrels per day)</th>\n",
       "      <th>Imports (thousand barrels per day)</th>\n",
       "      <th>Production (thousand barrels per day)</th>\n",
       "      <th>Price of Barrel (usd)</th>\n",
       "    </tr>\n",
       "  </thead>\n",
       "  <tbody>\n",
       "    <tr>\n",
       "      <th>1526</th>\n",
       "      <td>2020-02-14</td>\n",
       "      <td>19590</td>\n",
       "      <td>6547</td>\n",
       "      <td>13000</td>\n",
       "      <td>50.83</td>\n",
       "    </tr>\n",
       "    <tr>\n",
       "      <th>1527</th>\n",
       "      <td>2020-02-21</td>\n",
       "      <td>19884</td>\n",
       "      <td>6217</td>\n",
       "      <td>13000</td>\n",
       "      <td>53.14</td>\n",
       "    </tr>\n",
       "    <tr>\n",
       "      <th>1528</th>\n",
       "      <td>2020-02-28</td>\n",
       "      <td>21272</td>\n",
       "      <td>6238</td>\n",
       "      <td>13100</td>\n",
       "      <td>48.36</td>\n",
       "    </tr>\n",
       "    <tr>\n",
       "      <th>1529</th>\n",
       "      <td>2020-03-06</td>\n",
       "      <td>21860</td>\n",
       "      <td>6412</td>\n",
       "      <td>13000</td>\n",
       "      <td>45.57</td>\n",
       "    </tr>\n",
       "    <tr>\n",
       "      <th>1530</th>\n",
       "      <td>2020-03-13</td>\n",
       "      <td>21477</td>\n",
       "      <td>6539</td>\n",
       "      <td>13100</td>\n",
       "      <td>32.39</td>\n",
       "    </tr>\n",
       "  </tbody>\n",
       "</table>\n",
       "</div>"
      ],
      "text/plain": [
       "           Date  Supply (thousand barrels per day)  \\\n",
       "1526 2020-02-14                              19590   \n",
       "1527 2020-02-21                              19884   \n",
       "1528 2020-02-28                              21272   \n",
       "1529 2020-03-06                              21860   \n",
       "1530 2020-03-13                              21477   \n",
       "\n",
       "      Imports (thousand barrels per day)  \\\n",
       "1526                                6547   \n",
       "1527                                6217   \n",
       "1528                                6238   \n",
       "1529                                6412   \n",
       "1530                                6539   \n",
       "\n",
       "      Production (thousand barrels per day) Price of Barrel (usd)  \n",
       "1526                                  13000                 50.83  \n",
       "1527                                  13000                 53.14  \n",
       "1528                                  13100                 48.36  \n",
       "1529                                  13000                 45.57  \n",
       "1530                                  13100                 32.39  "
      ]
     },
     "execution_count": 10,
     "metadata": {},
     "output_type": "execute_result"
    }
   ],
   "source": [
    "df_merged.tail()"
   ]
  },
  {
   "cell_type": "code",
   "execution_count": 11,
   "metadata": {},
   "outputs": [
    {
     "data": {
      "text/html": [
       "<div>\n",
       "<style scoped>\n",
       "    .dataframe tbody tr th:only-of-type {\n",
       "        vertical-align: middle;\n",
       "    }\n",
       "\n",
       "    .dataframe tbody tr th {\n",
       "        vertical-align: top;\n",
       "    }\n",
       "\n",
       "    .dataframe thead th {\n",
       "        text-align: right;\n",
       "    }\n",
       "</style>\n",
       "<table border=\"1\" class=\"dataframe\">\n",
       "  <thead>\n",
       "    <tr style=\"text-align: right;\">\n",
       "      <th></th>\n",
       "      <th>Date</th>\n",
       "      <th>Supply (thousand barrels per day)</th>\n",
       "      <th>Imports (thousand barrels per day)</th>\n",
       "      <th>Production (thousand barrels per day)</th>\n",
       "      <th>Price of Barrel (usd)</th>\n",
       "    </tr>\n",
       "  </thead>\n",
       "  <tbody>\n",
       "    <tr>\n",
       "      <th>0</th>\n",
       "      <td>1990-11-16</td>\n",
       "      <td>16588</td>\n",
       "      <td>5637</td>\n",
       "      <td>6910</td>\n",
       "      <td>31.50</td>\n",
       "    </tr>\n",
       "    <tr>\n",
       "      <th>1</th>\n",
       "      <td>1990-11-23</td>\n",
       "      <td>17019</td>\n",
       "      <td>5610</td>\n",
       "      <td>7440</td>\n",
       "      <td>30.69</td>\n",
       "    </tr>\n",
       "    <tr>\n",
       "      <th>2</th>\n",
       "      <td>1990-11-30</td>\n",
       "      <td>15686</td>\n",
       "      <td>4532</td>\n",
       "      <td>7235</td>\n",
       "      <td>32.32</td>\n",
       "    </tr>\n",
       "    <tr>\n",
       "      <th>3</th>\n",
       "      <td>1990-12-07</td>\n",
       "      <td>17753</td>\n",
       "      <td>5007</td>\n",
       "      <td>6996</td>\n",
       "      <td>27.72</td>\n",
       "    </tr>\n",
       "    <tr>\n",
       "      <th>4</th>\n",
       "      <td>1990-12-14</td>\n",
       "      <td>16901</td>\n",
       "      <td>5236</td>\n",
       "      <td>7474</td>\n",
       "      <td>26.39</td>\n",
       "    </tr>\n",
       "  </tbody>\n",
       "</table>\n",
       "</div>"
      ],
      "text/plain": [
       "        Date  Supply (thousand barrels per day)  \\\n",
       "0 1990-11-16                              16588   \n",
       "1 1990-11-23                              17019   \n",
       "2 1990-11-30                              15686   \n",
       "3 1990-12-07                              17753   \n",
       "4 1990-12-14                              16901   \n",
       "\n",
       "   Imports (thousand barrels per day)  Production (thousand barrels per day)  \\\n",
       "0                                5637                                   6910   \n",
       "1                                5610                                   7440   \n",
       "2                                4532                                   7235   \n",
       "3                                5007                                   6996   \n",
       "4                                5236                                   7474   \n",
       "\n",
       "  Price of Barrel (usd)  \n",
       "0                 31.50  \n",
       "1                 30.69  \n",
       "2                 32.32  \n",
       "3                 27.72  \n",
       "4                 26.39  "
      ]
     },
     "execution_count": 11,
     "metadata": {},
     "output_type": "execute_result"
    }
   ],
   "source": [
    "df_merged.head()"
   ]
  },
  {
   "cell_type": "code",
   "execution_count": null,
   "metadata": {},
   "outputs": [],
   "source": []
  }
 ],
 "metadata": {
  "kernelspec": {
   "display_name": "Python 3",
   "language": "python",
   "name": "python3"
  },
  "language_info": {
   "codemirror_mode": {
    "name": "ipython",
    "version": 3
   },
   "file_extension": ".py",
   "mimetype": "text/x-python",
   "name": "python",
   "nbconvert_exporter": "python",
   "pygments_lexer": "ipython3",
   "version": "3.7.3"
  }
 },
 "nbformat": 4,
 "nbformat_minor": 2
}
