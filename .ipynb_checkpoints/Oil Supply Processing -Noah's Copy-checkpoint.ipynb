{
 "cells": [
  {
   "cell_type": "code",
   "execution_count": 1,
   "metadata": {},
   "outputs": [],
   "source": [
    "import pandas as pd\n",
    "import json\n",
    "import requests\n",
    "import pprint\n",
    "from functools import reduce\n",
    "from keys import fred_key, eia_key"
   ]
  },
  {
   "cell_type": "code",
   "execution_count": 2,
   "metadata": {},
   "outputs": [
    {
     "name": "stdout",
     "output_type": "stream",
     "text": [
      "200\n",
      "200\n",
      "200\n"
     ]
    }
   ],
   "source": [
    "# EIA API Calls\n",
    "production = requests.get(\"https://api.eia.gov/series/?api_key=\"+ eia_key +\"&series_id=PET.WCRFPUS2.W\")\n",
    "imports = requests.get(\"http://api.eia.gov/series/?api_key=\"+ eia_key +\"&series_id=PET.WCRIMUS2.W\")\n",
    "supply = requests.get(\"http://api.eia.gov/series/?api_key=\"+ eia_key +\"&series_id=PET.WRPUPUS2.W\")\n",
    "\n",
    "print(production.status_code)\n",
    "print(imports.status_code)\n",
    "print(supply.status_code)"
   ]
  },
  {
   "cell_type": "code",
   "execution_count": 3,
   "metadata": {},
   "outputs": [
    {
     "name": "stdout",
     "output_type": "stream",
     "text": [
      "200\n",
      "200\n",
      "200\n",
      "200\n"
     ]
    }
   ],
   "source": [
    "# FRED API Calls\n",
    "# The WTI returns price for the week ending Friday. This is the same release dat as the eia data\n",
    "wti = requests.get(\"https://api.stlouisfed.org/fred/series/observations?series_id=WCOILWTICO&frequency=wef&api_key=\"+ \n",
    "                   fred_key +\"&file_type=json\")\n",
    "\n",
    "# These indicators are only monthly\n",
    "cpi = requests.get(\"https://api.stlouisfed.org/fred/series/observations?series_id=CPILFESL&frequency=m&api_key=\"+ \n",
    "                  fred_key +\"&file_type=json\")\n",
    "unemployment = requests.get(\"https://api.stlouisfed.org/fred/series/observations?series_id=UNRATE&frequency=m&api_key=\"+ \n",
    "                  fred_key +\"&file_type=json\")\n",
    "personal_consumption_expenditure = requests.get(\"https://api.stlouisfed.org/fred/series/observations?series_id=PCE&frequency=m&api_key=\"+ \n",
    "                  fred_key +\"&file_type=json\")\n",
    "\n",
    "print(wti.status_code)\n",
    "print(cpi.status_code)\n",
    "print(unemployment.status_code)\n",
    "print(personal_consumption_expenditure.status_code)"
   ]
  },
  {
   "cell_type": "code",
   "execution_count": 4,
   "metadata": {},
   "outputs": [],
   "source": [
    "# Convert responses to JSONs\n",
    "production_json = production.json()\n",
    "imports_json = imports.json()\n",
    "supply_json = supply.json()\n",
    "wti_json = wti.json()\n",
    "cpi_json = cpi.json()\n",
    "unemp_json = unemployment.json()\n",
    "pce_json = personal_consumption_expenditure.json()"
   ]
  },
  {
   "cell_type": "code",
   "execution_count": 5,
   "metadata": {},
   "outputs": [],
   "source": [
    "# Extract EIA Data\n",
    "production_series = production_json['series'][0]\n",
    "imports_series = imports_json['series'][0]\n",
    "supply_series = supply_json['series'][0]"
   ]
  },
  {
   "cell_type": "code",
   "execution_count": 6,
   "metadata": {},
   "outputs": [],
   "source": [
    "production_df = pd.DataFrame(production_series['data'])\n",
    "imports_df = pd.DataFrame(imports_series['data'])\n",
    "supply_df = pd.DataFrame(supply_series['data'])"
   ]
  },
  {
   "cell_type": "code",
   "execution_count": 7,
   "metadata": {},
   "outputs": [],
   "source": [
    "# Extract FRED Data\n",
    "wti_observations = wti_json['observations']\n",
    "Date = []\n",
    "Value = []\n",
    "for observation in wti_observations:\n",
    "    Date.append(observation['date'])\n",
    "    Value.append(observation['value'])\n",
    "wti_df = pd.DataFrame(list(zip(Date,Value)))"
   ]
  },
  {
   "cell_type": "code",
   "execution_count": 8,
   "metadata": {},
   "outputs": [],
   "source": [
    "cpi_observations = cpi_json['observations']\n",
    "Date = []\n",
    "Value = []\n",
    "for observation in cpi_observations:\n",
    "    Date.append(observation['date'])\n",
    "    Value.append(observation['value'])\n",
    "cpi_df = pd.DataFrame(list(zip(Date,Value)))"
   ]
  },
  {
   "cell_type": "code",
   "execution_count": 11,
   "metadata": {},
   "outputs": [
    {
     "data": {
      "text/html": [
       "<div>\n",
       "<style scoped>\n",
       "    .dataframe tbody tr th:only-of-type {\n",
       "        vertical-align: middle;\n",
       "    }\n",
       "\n",
       "    .dataframe tbody tr th {\n",
       "        vertical-align: top;\n",
       "    }\n",
       "\n",
       "    .dataframe thead th {\n",
       "        text-align: right;\n",
       "    }\n",
       "</style>\n",
       "<table border=\"1\" class=\"dataframe\">\n",
       "  <thead>\n",
       "    <tr style=\"text-align: right;\">\n",
       "      <th></th>\n",
       "      <th>0</th>\n",
       "      <th>1</th>\n",
       "    </tr>\n",
       "  </thead>\n",
       "  <tbody>\n",
       "    <tr>\n",
       "      <th>0</th>\n",
       "      <td>1948-01-01</td>\n",
       "      <td>3.4</td>\n",
       "    </tr>\n",
       "    <tr>\n",
       "      <th>1</th>\n",
       "      <td>1948-02-01</td>\n",
       "      <td>3.8</td>\n",
       "    </tr>\n",
       "    <tr>\n",
       "      <th>2</th>\n",
       "      <td>1948-03-01</td>\n",
       "      <td>4.0</td>\n",
       "    </tr>\n",
       "    <tr>\n",
       "      <th>3</th>\n",
       "      <td>1948-04-01</td>\n",
       "      <td>3.9</td>\n",
       "    </tr>\n",
       "    <tr>\n",
       "      <th>4</th>\n",
       "      <td>1948-05-01</td>\n",
       "      <td>3.5</td>\n",
       "    </tr>\n",
       "  </tbody>\n",
       "</table>\n",
       "</div>"
      ],
      "text/plain": [
       "            0    1\n",
       "0  1948-01-01  3.4\n",
       "1  1948-02-01  3.8\n",
       "2  1948-03-01  4.0\n",
       "3  1948-04-01  3.9\n",
       "4  1948-05-01  3.5"
      ]
     },
     "execution_count": 11,
     "metadata": {},
     "output_type": "execute_result"
    }
   ],
   "source": [
    "unemp_observations = unemp_json['observations']\n",
    "Date = []\n",
    "Value = []\n",
    "for observation in unemp_observations:\n",
    "    Date.append(observation['date'])\n",
    "    Value.append(observation['value'])\n",
    "unemp_df = pd.DataFrame(list(zip(Date,Value)))\n",
    "unemp_df.head()"
   ]
  },
  {
   "cell_type": "code",
   "execution_count": 12,
   "metadata": {},
   "outputs": [
    {
     "data": {
      "text/html": [
       "<div>\n",
       "<style scoped>\n",
       "    .dataframe tbody tr th:only-of-type {\n",
       "        vertical-align: middle;\n",
       "    }\n",
       "\n",
       "    .dataframe tbody tr th {\n",
       "        vertical-align: top;\n",
       "    }\n",
       "\n",
       "    .dataframe thead th {\n",
       "        text-align: right;\n",
       "    }\n",
       "</style>\n",
       "<table border=\"1\" class=\"dataframe\">\n",
       "  <thead>\n",
       "    <tr style=\"text-align: right;\">\n",
       "      <th></th>\n",
       "      <th>0</th>\n",
       "      <th>1</th>\n",
       "    </tr>\n",
       "  </thead>\n",
       "  <tbody>\n",
       "    <tr>\n",
       "      <th>0</th>\n",
       "      <td>1959-01-01</td>\n",
       "      <td>306.1</td>\n",
       "    </tr>\n",
       "    <tr>\n",
       "      <th>1</th>\n",
       "      <td>1959-02-01</td>\n",
       "      <td>309.6</td>\n",
       "    </tr>\n",
       "    <tr>\n",
       "      <th>2</th>\n",
       "      <td>1959-03-01</td>\n",
       "      <td>312.7</td>\n",
       "    </tr>\n",
       "    <tr>\n",
       "      <th>3</th>\n",
       "      <td>1959-04-01</td>\n",
       "      <td>312.2</td>\n",
       "    </tr>\n",
       "    <tr>\n",
       "      <th>4</th>\n",
       "      <td>1959-05-01</td>\n",
       "      <td>316.1</td>\n",
       "    </tr>\n",
       "  </tbody>\n",
       "</table>\n",
       "</div>"
      ],
      "text/plain": [
       "            0      1\n",
       "0  1959-01-01  306.1\n",
       "1  1959-02-01  309.6\n",
       "2  1959-03-01  312.7\n",
       "3  1959-04-01  312.2\n",
       "4  1959-05-01  316.1"
      ]
     },
     "execution_count": 12,
     "metadata": {},
     "output_type": "execute_result"
    }
   ],
   "source": [
    "pce_observations = pce_json['observations']\n",
    "Date = []\n",
    "Value = []\n",
    "for observation in pce_observations:\n",
    "    Date.append(observation['date'])\n",
    "    Value.append(observation['value'])\n",
    "pce_df = pd.DataFrame(list(zip(Date,Value)))\n",
    "pce_df.head()"
   ]
  },
  {
   "cell_type": "code",
   "execution_count": 13,
   "metadata": {},
   "outputs": [
    {
     "name": "stdout",
     "output_type": "stream",
     "text": [
      "<class 'pandas.core.frame.DataFrame'>\n",
      "RangeIndex: 733 entries, 0 to 732\n",
      "Data columns (total 2 columns):\n",
      "0    733 non-null datetime64[ns]\n",
      "1    733 non-null object\n",
      "dtypes: datetime64[ns](1), object(1)\n",
      "memory usage: 11.5+ KB\n"
     ]
    }
   ],
   "source": [
    "# COnverting to datetime \n",
    "production_df.iloc[:,0] = pd.to_datetime(production_df.iloc[:,0],format='%Y%m%d', errors='raise')\n",
    "imports_df.iloc[:,0] = pd.to_datetime(production_df.iloc[:,0],format='%Y%m%d', errors='raise')\n",
    "supply_df.iloc[:,0] = pd.to_datetime(production_df.iloc[:,0],format='%Y%m%d', errors='raise')\n",
    "wti_df.iloc[:,0] = pd.to_datetime(wti_df.iloc[:,0],format='%Y-%m-%d', errors='raise')\n",
    "cpi_df.iloc[:,0] = pd.to_datetime(cpi_df.iloc[:,0],format='%Y-%m-%d', errors='raise')\n",
    "unemp_df.iloc[:,0] = pd.to_datetime(unemp_df.iloc[:,0],format='%Y-%m-%d', errors='raise')\n",
    "pce_df.iloc[:,0] = pd.to_datetime(pce_df.iloc[:,0],format='%Y-%m-%d', errors='raise')\n",
    "pce_df.info()"
   ]
  },
  {
   "cell_type": "code",
   "execution_count": 14,
   "metadata": {},
   "outputs": [
    {
     "name": "stdout",
     "output_type": "stream",
     "text": [
      "<class 'pandas.core.frame.DataFrame'>\n",
      "Int64Index: 733 entries, 0 to 732\n",
      "Data columns (total 2 columns):\n",
      "Date                                                  733 non-null datetime64[ns]\n",
      "Personal Consumption Expenditure (billions of usd)    733 non-null object\n",
      "dtypes: datetime64[ns](1), object(1)\n",
      "memory usage: 17.2+ KB\n"
     ]
    }
   ],
   "source": [
    "# Rename columns\n",
    "production_df = production_df.rename(columns = {0:'Date', 1:'Production (thousand barrels per day)'}).sort_values(by='Date').reset_index(drop=True)\n",
    "imports_df = imports_df.rename(columns = {0:'Date', 1:'Imports (thousand barrels per day)'}).sort_values(by='Date').reset_index(drop=True)\n",
    "supply_df = supply_df.rename(columns = {0:'Date', 1:'Supply (thousand barrels per day)'}).sort_values(by='Date').reset_index(drop=True)\n",
    "wti_df = wti_df.rename(columns = {0:'Date', 1:'Price of Barrel (usd)'}).sort_values(by='Date')\n",
    "cpi_df = cpi_df.rename(columns = {0:'Date', 1:'Core CPI (index 1982-1984=100)'}).sort_values(by='Date')\n",
    "unemp_df = unemp_df.rename(columns = {0:'Date', 1:'Unemployment (%)'}).sort_values(by='Date')\n",
    "pce_df = pce_df.rename(columns = {0:'Date', 1:'Personal Consumption Expenditure (billions of usd)'}).sort_values(by='Date')\n",
    "pce_df.info()"
   ]
  },
  {
   "cell_type": "code",
   "execution_count": 15,
   "metadata": {},
   "outputs": [
    {
     "name": "stdout",
     "output_type": "stream",
     "text": [
      "<class 'pandas.core.frame.DataFrame'>\n",
      "Int64Index: 1531 entries, 0 to 1530\n",
      "Data columns (total 5 columns):\n",
      "Date                                     1531 non-null datetime64[ns]\n",
      "Supply (thousand barrels per day)        1531 non-null int64\n",
      "Imports (thousand barrels per day)       1531 non-null int64\n",
      "Production (thousand barrels per day)    1531 non-null int64\n",
      "Price of Barrel (usd)                    1531 non-null object\n",
      "dtypes: datetime64[ns](1), int64(3), object(1)\n",
      "memory usage: 71.8+ KB\n"
     ]
    }
   ],
   "source": [
    "# Merge EIA data and WTI\n",
    "data_frames = [supply_df,imports_df,production_df,wti_df]\n",
    "df_merged = reduce(lambda  left,right: pd.merge(left,right,on=['Date'],\n",
    "                                            how='left'), data_frames)\n",
    "df_merged.info()"
   ]
  },
  {
   "cell_type": "code",
   "execution_count": 16,
   "metadata": {},
   "outputs": [
    {
     "name": "stdout",
     "output_type": "stream",
     "text": [
      "<class 'pandas.core.frame.DataFrame'>\n",
      "Int64Index: 733 entries, 0 to 732\n",
      "Data columns (total 4 columns):\n",
      "Date                                                  733 non-null datetime64[ns]\n",
      "Personal Consumption Expenditure (billions of usd)    733 non-null object\n",
      "Core CPI (index 1982-1984=100)                        733 non-null object\n",
      "Unemployment (%)                                      733 non-null object\n",
      "dtypes: datetime64[ns](1), object(3)\n",
      "memory usage: 28.6+ KB\n"
     ]
    }
   ],
   "source": [
    "# Merge FRED data\n",
    "data_frames = [pce_df, cpi_df, unemp_df]\n",
    "indicators_merged = reduce(lambda  left,right: pd.merge(left,right,on=['Date'],\n",
    "                                            how='left'), data_frames)\n",
    "indicators_merged.info()"
   ]
  },
  {
   "cell_type": "code",
   "execution_count": 19,
   "metadata": {},
   "outputs": [
    {
     "data": {
      "text/html": [
       "<div>\n",
       "<style scoped>\n",
       "    .dataframe tbody tr th:only-of-type {\n",
       "        vertical-align: middle;\n",
       "    }\n",
       "\n",
       "    .dataframe tbody tr th {\n",
       "        vertical-align: top;\n",
       "    }\n",
       "\n",
       "    .dataframe thead th {\n",
       "        text-align: right;\n",
       "    }\n",
       "</style>\n",
       "<table border=\"1\" class=\"dataframe\">\n",
       "  <thead>\n",
       "    <tr style=\"text-align: right;\">\n",
       "      <th></th>\n",
       "      <th>Date</th>\n",
       "      <th>Personal Consumption Expenditure (billions of usd)</th>\n",
       "      <th>Core CPI (index 1982-1984=100)</th>\n",
       "      <th>Unemployment (%)</th>\n",
       "      <th>Merge Date</th>\n",
       "    </tr>\n",
       "  </thead>\n",
       "  <tbody>\n",
       "    <tr>\n",
       "      <th>0</th>\n",
       "      <td>1959-01-01</td>\n",
       "      <td>306.1</td>\n",
       "      <td>29.9</td>\n",
       "      <td>6.0</td>\n",
       "      <td>01-1959</td>\n",
       "    </tr>\n",
       "    <tr>\n",
       "      <th>1</th>\n",
       "      <td>1959-02-01</td>\n",
       "      <td>309.6</td>\n",
       "      <td>29.9</td>\n",
       "      <td>5.9</td>\n",
       "      <td>02-1959</td>\n",
       "    </tr>\n",
       "    <tr>\n",
       "      <th>2</th>\n",
       "      <td>1959-03-01</td>\n",
       "      <td>312.7</td>\n",
       "      <td>30</td>\n",
       "      <td>5.6</td>\n",
       "      <td>03-1959</td>\n",
       "    </tr>\n",
       "    <tr>\n",
       "      <th>3</th>\n",
       "      <td>1959-04-01</td>\n",
       "      <td>312.2</td>\n",
       "      <td>30</td>\n",
       "      <td>5.2</td>\n",
       "      <td>04-1959</td>\n",
       "    </tr>\n",
       "    <tr>\n",
       "      <th>4</th>\n",
       "      <td>1959-05-01</td>\n",
       "      <td>316.1</td>\n",
       "      <td>30.1</td>\n",
       "      <td>5.1</td>\n",
       "      <td>05-1959</td>\n",
       "    </tr>\n",
       "  </tbody>\n",
       "</table>\n",
       "</div>"
      ],
      "text/plain": [
       "        Date Personal Consumption Expenditure (billions of usd)  \\\n",
       "0 1959-01-01                                              306.1   \n",
       "1 1959-02-01                                              309.6   \n",
       "2 1959-03-01                                              312.7   \n",
       "3 1959-04-01                                              312.2   \n",
       "4 1959-05-01                                              316.1   \n",
       "\n",
       "  Core CPI (index 1982-1984=100) Unemployment (%) Merge Date  \n",
       "0                           29.9              6.0    01-1959  \n",
       "1                           29.9              5.9    02-1959  \n",
       "2                             30              5.6    03-1959  \n",
       "3                             30              5.2    04-1959  \n",
       "4                           30.1              5.1    05-1959  "
      ]
     },
     "execution_count": 19,
     "metadata": {},
     "output_type": "execute_result"
    }
   ],
   "source": [
    "# Creating new datetime columns to merge on\n",
    "indicators_merged['Merge Date']= indicators_merged['Date'].dt.strftime('%m-%Y')\n",
    "indicators_merged.head()"
   ]
  },
  {
   "cell_type": "code",
   "execution_count": 20,
   "metadata": {},
   "outputs": [
    {
     "data": {
      "text/html": [
       "<div>\n",
       "<style scoped>\n",
       "    .dataframe tbody tr th:only-of-type {\n",
       "        vertical-align: middle;\n",
       "    }\n",
       "\n",
       "    .dataframe tbody tr th {\n",
       "        vertical-align: top;\n",
       "    }\n",
       "\n",
       "    .dataframe thead th {\n",
       "        text-align: right;\n",
       "    }\n",
       "</style>\n",
       "<table border=\"1\" class=\"dataframe\">\n",
       "  <thead>\n",
       "    <tr style=\"text-align: right;\">\n",
       "      <th></th>\n",
       "      <th>Date</th>\n",
       "      <th>Supply (thousand barrels per day)</th>\n",
       "      <th>Imports (thousand barrels per day)</th>\n",
       "      <th>Production (thousand barrels per day)</th>\n",
       "      <th>Price of Barrel (usd)</th>\n",
       "      <th>Merge Date</th>\n",
       "    </tr>\n",
       "  </thead>\n",
       "  <tbody>\n",
       "    <tr>\n",
       "      <th>0</th>\n",
       "      <td>1990-11-16</td>\n",
       "      <td>16588</td>\n",
       "      <td>5637</td>\n",
       "      <td>6910</td>\n",
       "      <td>31.50</td>\n",
       "      <td>11-1990</td>\n",
       "    </tr>\n",
       "    <tr>\n",
       "      <th>1</th>\n",
       "      <td>1990-11-23</td>\n",
       "      <td>17019</td>\n",
       "      <td>5610</td>\n",
       "      <td>7440</td>\n",
       "      <td>30.69</td>\n",
       "      <td>11-1990</td>\n",
       "    </tr>\n",
       "    <tr>\n",
       "      <th>2</th>\n",
       "      <td>1990-11-30</td>\n",
       "      <td>15686</td>\n",
       "      <td>4532</td>\n",
       "      <td>7235</td>\n",
       "      <td>32.32</td>\n",
       "      <td>11-1990</td>\n",
       "    </tr>\n",
       "    <tr>\n",
       "      <th>3</th>\n",
       "      <td>1990-12-07</td>\n",
       "      <td>17753</td>\n",
       "      <td>5007</td>\n",
       "      <td>6996</td>\n",
       "      <td>27.72</td>\n",
       "      <td>12-1990</td>\n",
       "    </tr>\n",
       "    <tr>\n",
       "      <th>4</th>\n",
       "      <td>1990-12-14</td>\n",
       "      <td>16901</td>\n",
       "      <td>5236</td>\n",
       "      <td>7474</td>\n",
       "      <td>26.39</td>\n",
       "      <td>12-1990</td>\n",
       "    </tr>\n",
       "  </tbody>\n",
       "</table>\n",
       "</div>"
      ],
      "text/plain": [
       "        Date  Supply (thousand barrels per day)  \\\n",
       "0 1990-11-16                              16588   \n",
       "1 1990-11-23                              17019   \n",
       "2 1990-11-30                              15686   \n",
       "3 1990-12-07                              17753   \n",
       "4 1990-12-14                              16901   \n",
       "\n",
       "   Imports (thousand barrels per day)  Production (thousand barrels per day)  \\\n",
       "0                                5637                                   6910   \n",
       "1                                5610                                   7440   \n",
       "2                                4532                                   7235   \n",
       "3                                5007                                   6996   \n",
       "4                                5236                                   7474   \n",
       "\n",
       "  Price of Barrel (usd) Merge Date  \n",
       "0                 31.50    11-1990  \n",
       "1                 30.69    11-1990  \n",
       "2                 32.32    11-1990  \n",
       "3                 27.72    12-1990  \n",
       "4                 26.39    12-1990  "
      ]
     },
     "execution_count": 20,
     "metadata": {},
     "output_type": "execute_result"
    }
   ],
   "source": [
    "df_merged['Merge Date'] = df_merged['Date'].dt.strftime('%m-%Y')\n",
    "df_merged.head()"
   ]
  },
  {
   "cell_type": "code",
   "execution_count": 21,
   "metadata": {},
   "outputs": [],
   "source": [
    "# Merging and cleaning columns\n",
    "final_df = pd.merge(df_merged, indicators_merged, how='left', on='Merge Date')\n",
    "final_df = final_df[['Date_x', 'Merge Date', 'Personal Consumption Expenditure (billions of usd)','Core CPI (index 1982-1984=100)',\n",
    "          'Unemployment (%)', 'Supply (thousand barrels per day)', 'Imports (thousand barrels per day)', 'Production (thousand barrels per day)', \n",
    "          'Price of Barrel (usd)']]\n",
    "final_df = final_df.rename(columns = {\"Date_x\":\"Date\", \"Merge Date\":\"Month\"})"
   ]
  },
  {
   "cell_type": "code",
   "execution_count": 49,
   "metadata": {},
   "outputs": [
    {
     "name": "stdout",
     "output_type": "stream",
     "text": [
      "<class 'pandas.core.frame.DataFrame'>\n",
      "Int64Index: 1525 entries, 0 to 1524\n",
      "Data columns (total 10 columns):\n",
      "Date                                                  1525 non-null datetime64[ns]\n",
      "Month                                                 1525 non-null object\n",
      "Personal Consumption Expenditure (billions of usd)    1525 non-null float64\n",
      "Core CPI (index 1982-1984=100)                        1525 non-null float64\n",
      "Unemployment (%)                                      1525 non-null float64\n",
      "Supply (thousand barrels per day)                     1525 non-null int64\n",
      "Imports (thousand barrels per day)                    1525 non-null int64\n",
      "Production (thousand barrels per day)                 1525 non-null int64\n",
      "Price of Barrel (usd)                                 1525 non-null float64\n",
      "Staggered Price of Barrel                             1525 non-null float64\n",
      "dtypes: datetime64[ns](1), float64(5), int64(3), object(1)\n",
      "memory usage: 131.1+ KB\n"
     ]
    }
   ],
   "source": [
    "PriceOfBarrel = final_df[\"Price of Barrel (usd)\"]\n",
    "StaggeredList=[]\n",
    "count=1\n",
    "while(count<len(PriceOfBarrel)):\n",
    "    StaggeredList.append(PriceOfBarrel[count])\n",
    "    count +=1\n",
    "StaggeredList.append(0)\n",
    "final_df2 = final_df.copy()\n",
    "final_df2 [\"Staggered Price of Barrel\"] = StaggeredList\n",
    "final_df2 = final_df2.iloc[:1525]\n",
    "\n",
    "final_df2['Personal Consumption Expenditure (billions of usd)'] = pd.to_numeric(final_df2['Personal Consumption Expenditure (billions of usd)'],errors='coerce')\n",
    "final_df2['Core CPI (index 1982-1984=100)'] = pd.to_numeric(final_df2['Core CPI (index 1982-1984=100)'],errors='coerce')\n",
    "final_df2['Unemployment (%)'] = pd.to_numeric(final_df2['Unemployment (%)'],errors='coerce')\n",
    "final_df2['Price of Barrel (usd)'] = pd.to_numeric(final_df2['Price of Barrel (usd)'],errors='coerce')\n",
    "final_df2['Staggered Price of Barrel'] = pd.to_numeric(final_df2['Staggered Price of Barrel'],errors='coerce')\n",
    "\n",
    "final_df2.info()\n",
    "final_df2.to_csv(\"Data.csv\")"
   ]
  },
  {
   "cell_type": "code",
   "execution_count": 23,
   "metadata": {},
   "outputs": [
    {
     "data": {
      "text/plain": [
       "LinearRegression(copy_X=True, fit_intercept=True, n_jobs=None, normalize=False)"
      ]
     },
     "execution_count": 23,
     "metadata": {},
     "output_type": "execute_result"
    }
   ],
   "source": [
    "from sklearn.linear_model import LinearRegression\n",
    "model = LinearRegression()\n",
    "X = final_df2[[\"Personal Consumption Expenditure (billions of usd)\",\n",
    "              \"Core CPI (index 1982-1984=100)\",\n",
    "              \"Unemployment (%)\",\n",
    "              \"Supply (thousand barrels per day)\",\n",
    "              \"Imports (thousand barrels per day)\",\n",
    "              \"Production (thousand barrels per day)\"]]\n",
    "y = final_df2[\"Staggered Price of Barrel\"].values.reshape(-1, 1)\n",
    "y.shape\n",
    "model.fit(X,y)"
   ]
  },
  {
   "cell_type": "code",
   "execution_count": 24,
   "metadata": {},
   "outputs": [
    {
     "name": "stdout",
     "output_type": "stream",
     "text": [
      "R2 Score: 0.7828987651868239\n"
     ]
    }
   ],
   "source": [
    "score = model.score(X, y)\n",
    "print(f\"R2 Score: {score}\")"
   ]
  },
  {
   "cell_type": "code",
   "execution_count": 25,
   "metadata": {},
   "outputs": [
    {
     "data": {
      "text/plain": [
       "<Figure size 640x480 with 1 Axes>"
      ]
     },
     "metadata": {},
     "output_type": "display_data"
    }
   ],
   "source": [
    "import matplotlib.pyplot as plt\n",
    "predictions = model.predict(X)\n",
    "# Plot Residuals\n",
    "plt.scatter(predictions, predictions - y)\n",
    "plt.hlines(y=0, xmin=predictions.min(), xmax=predictions.max())\n",
    "plt.show()"
   ]
  },
  {
   "cell_type": "code",
   "execution_count": null,
   "metadata": {},
   "outputs": [],
   "source": [
    "from sklearn.model_selection import train_test_split\n",
    "\n",
    "X_train, X_test, y_train, y_test = train_test_split(X, y, random_state=42)\n",
    "model.fit(X_train, y_train)\n",
    "training_score = model.score(X_train, y_train)\n",
    "testing_score = model.score(X_test, y_test)\n",
    "print(f\"Training Score: {training_score}\")\n",
    "print(f\"Testing Score: {testing_score}\")\n",
    "\n",
    "plt.scatter(model.predict(X_train), model.predict(X_train) - y_train, c=\"blue\", label=\"Training Data\")\n",
    "plt.scatter(model.predict(X_test), model.predict(X_test) - y_test, c=\"orange\", label=\"Testing Data\")\n",
    "plt.legend()\n",
    "plt.hlines(y=0, xmin=y.min(), xmax=y.max())\n",
    "plt.title(\"Residual Plot\")"
   ]
  },
  {
   "cell_type": "code",
   "execution_count": null,
   "metadata": {},
   "outputs": [],
   "source": [
    "# from classwork 22-1-8:\n",
    "#I guess this scales the data???\n",
    "from sklearn.preprocessing import StandardScaler\n",
    "X_scaler = StandardScaler().fit(X_train)\n",
    "y_scaler = StandardScaler().fit(y_train)\n",
    "X_train_scaled = X_scaler.transform(X_train)\n",
    "X_test_scaled = X_scaler.transform(X_test)\n",
    "y_train_scaled = y_scaler.transform(y_train)\n",
    "y_test_scaled = y_scaler.transform(y_test)\n",
    "predictions = model.predict(X_test_scaled)\n",
    "model.fit(X_train_scaled, y_train_scaled)\n",
    "plt.scatter(model.predict(X_train_scaled), model.predict(X_train_scaled) - y_train_scaled, c=\"blue\", label=\"Training Data\")\n",
    "plt.scatter(model.predict(X_test_scaled), model.predict(X_test_scaled) - y_test_scaled, c=\"orange\", label=\"Testing Data\")\n",
    "plt.legend()\n",
    "plt.hlines(y=0, xmin=y_test_scaled.min(), xmax=y_test_scaled.max())\n",
    "plt.title(\"Residual Plot\")\n",
    "plt.show()"
   ]
  },
  {
   "cell_type": "code",
   "execution_count": null,
   "metadata": {},
   "outputs": [],
   "source": [
    "# still from 22-1-8:\n",
    "\n",
    "from sklearn.metrics import mean_squared_error\n",
    "\n",
    "MSE = mean_squared_error(y_test_scaled, predictions)\n",
    "r2 = model.score(X_test_scaled, y_test_scaled)\n",
    "### END SOLUTION\n",
    "\n",
    "print(f\"MSE: {MSE}, R2: {r2}\")"
   ]
  },
  {
   "cell_type": "code",
   "execution_count": null,
   "metadata": {},
   "outputs": [],
   "source": [
    "# 22-1-8:  The Lasso model is less effective for our data??\n",
    "\n",
    "from sklearn.linear_model import Lasso\n",
    "\n",
    "### BEGIN SOLUTION\n",
    "lasso = Lasso(alpha=.01).fit(X_train_scaled, y_train_scaled)\n",
    "\n",
    "predictions = lasso.predict(X_test_scaled)\n",
    "\n",
    "MSE = mean_squared_error(y_test_scaled, predictions)\n",
    "r2 = lasso.score(X_test_scaled, y_test_scaled)\n",
    "### END SOLUTION\n",
    "\n",
    "print(f\"MSE: {MSE}, R2: {r2}\")"
   ]
  },
  {
   "cell_type": "code",
   "execution_count": null,
   "metadata": {},
   "outputs": [],
   "source": [
    "# Ridge model (22-1-8)\n",
    "# Note: Use an alpha of .01 when creating the model for this activity\n",
    "from sklearn.linear_model import Ridge\n",
    "\n",
    "### BEGIN SOLUTION\n",
    "ridge = Ridge(alpha=.01).fit(X_train_scaled, y_train_scaled)\n",
    "\n",
    "predictions = ridge.predict(X_test_scaled)\n",
    "\n",
    "MSE = mean_squared_error(y_test_scaled, predictions)\n",
    "r2 = ridge.score(X_test_scaled, y_test_scaled)\n",
    "### END SOLUTION\n",
    "\n",
    "print(f\"MSE: {MSE}, R2: {r2}\")"
   ]
  },
  {
   "cell_type": "code",
   "execution_count": null,
   "metadata": {},
   "outputs": [],
   "source": [
    "# ElasticNet model\n",
    "# Note: Use an alpha of .01 when creating the model for this activity, 22-1-8\n",
    "from sklearn.linear_model import ElasticNet\n",
    "\n",
    "### BEGIN SOLUTION\n",
    "elasticnet = ElasticNet(alpha=.01).fit(X_train_scaled, y_train_scaled)\n",
    "\n",
    "predictions = elasticnet.predict(X_test_scaled)\n",
    "\n",
    "MSE = mean_squared_error(y_test_scaled, predictions)\n",
    "r2 = elasticnet.score(X_test_scaled, y_test_scaled)\n",
    "### END SOLUTION\n",
    "\n",
    "print(f\"MSE: {MSE}, R2: {r2}\")"
   ]
  },
  {
   "cell_type": "code",
   "execution_count": null,
   "metadata": {},
   "outputs": [],
   "source": []
  }
 ],
 "metadata": {
  "kernelspec": {
   "display_name": "Python 3",
   "language": "python",
   "name": "python3"
  },
  "language_info": {
   "codemirror_mode": {
    "name": "ipython",
    "version": 3
   },
   "file_extension": ".py",
   "mimetype": "text/x-python",
   "name": "python",
   "nbconvert_exporter": "python",
   "pygments_lexer": "ipython3",
   "version": "3.7.3"
  }
 },
 "nbformat": 4,
 "nbformat_minor": 2
}
